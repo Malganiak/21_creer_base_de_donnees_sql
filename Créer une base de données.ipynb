{
 "cells": [
  {
   "cell_type": "markdown",
   "id": "0590831d-0c8d-45f6-95b8-0d1cd9da5acb",
   "metadata": {},
   "source": [
    "Modalités pédagogiques :\n",
    "Pratique 1 (travail est individuel - livrable -> notebook):\n",
    "\n",
    "Installez MySQL ou PostgreSQL sur votre machine\n",
    "Faites vos premières requêtes SQL dans votre script Python et remplissez votre base de données avec les données des films\n",
    "Vos requêtes doivent couvrir la totalité des principes CRUD -> expliquez ces principes\n",
    "Créez plusieurs tables et expérimentez les jointures\n",
    "Faites un panorama de ce que vous êtes parvenu à faire sur un notebook commenté et propre.\n",
    "​\n",
    "\n",
    "Pratique 2 (travail individuel ou en groupe, organisation libre - livrable -> slides) :\n",
    "\n",
    "Faites un panorama des types de données en SQL (et entre SGBD, MySQL et consorts)\n",
    "Faites des recherches sur le modèle conceptuel de données\n",
    "Réfléchissez à comment vous pourriez organiser vos tables dans votre base de données\n",
    "Prenez en compte le fait que votre base de données doit pour être maintenable et extensible\n",
    "Faites des recherches sur le diagramme de classes\n",
    "Faites des slides pour regrouper et synthétiser ce que vous avez compris\n",
    "​\n",
    "\n",
    "Bonus : Faites des recherches sur les domaines suivants (livrable -> Notebook ou slides):\n",
    "\n",
    "Le principe ACID (Atomicité, Cohérence, Isolation, Durabilité)\n",
    "Les bases de données NoSQL (ou autre solution plus exotique, vector database etc...) -> Faites un compte rendu de vos recherches / faites des tests en Python/CLI/autre techno"
   ]
  },
  {
   "cell_type": "markdown",
   "id": "a11c962a-81a9-4ad4-b1d9-6ff6bda09868",
   "metadata": {},
   "source": [
    "# Mettre en place la base de données"
   ]
  },
  {
   "cell_type": "markdown",
   "id": "fda20b71-aa29-4a07-a039-3b5caf5ba71c",
   "metadata": {},
   "source": [
    "## Import des librairies"
   ]
  },
  {
   "cell_type": "code",
   "execution_count": 1,
   "id": "c3c5e7df-d152-4893-bff0-8fae0b35cd99",
   "metadata": {},
   "outputs": [],
   "source": [
    "import pandas as pd\n",
    "import mysql.connector\n",
    "from mysql.connector import Error"
   ]
  },
  {
   "cell_type": "markdown",
   "id": "7050f82c-2546-4be0-a9c2-a62f157870aa",
   "metadata": {},
   "source": [
    "## Connexion à la base de données"
   ]
  },
  {
   "cell_type": "code",
   "execution_count": 2,
   "id": "1cd93a3c-525e-4915-8875-4ecd11b662a3",
   "metadata": {},
   "outputs": [],
   "source": [
    "# Fonction pour établir la connexion à la base de données\n",
    "def create_connection(host, user, password, database):\n",
    "    try:\n",
    "        connection = mysql.connector.connect(\n",
    "            host=host,\n",
    "            user=user,\n",
    "            password=password,\n",
    "            database=database  # Ajoutez cette ligne pour spécifier la base de données\n",
    "        )\n",
    "        if connection.is_connected():\n",
    "            print(f\"Connected to MySQL Server: {host} with database: {database}\")\n",
    "            return connection\n",
    "\n",
    "    except Error as e:\n",
    "        print(f\"Error: {e}\")\n",
    "        return None"
   ]
  },
  {
   "cell_type": "markdown",
   "id": "18c36bfc-966b-4bf6-a227-1366f2c72f7f",
   "metadata": {},
   "source": [
    "## Executer des requêtes SQL"
   ]
  },
  {
   "cell_type": "code",
   "execution_count": 3,
   "id": "dfdedf5b-87ca-4cff-a273-d8f6d1fedf2a",
   "metadata": {},
   "outputs": [],
   "source": [
    "# Fonction pour exécuter une requête SQL\n",
    "def execute_query(connection, query):\n",
    "    try:\n",
    "        cursor = connection.cursor()\n",
    "        cursor.execute(query)\n",
    "        connection.commit()\n",
    "        print(\"Query executed successfully\")\n",
    "    except Error as e:\n",
    "        print(f\"Error: {e}\")"
   ]
  },
  {
   "cell_type": "markdown",
   "id": "00f17e50-8b68-4a4e-9ce9-c49e9b03a572",
   "metadata": {},
   "source": [
    "## Créer une base de données"
   ]
  },
  {
   "cell_type": "code",
   "execution_count": 4,
   "id": "fd537cb7-20cf-48d2-8c92-051cd47a947e",
   "metadata": {},
   "outputs": [],
   "source": [
    "# Fonction pour créer une base de données\n",
    "def create_database(connection, database_name):\n",
    "    create_database_query = f\"CREATE DATABASE IF NOT EXISTS {database_name}\"\n",
    "    execute_query(connection, create_database_query)"
   ]
  },
  {
   "cell_type": "markdown",
   "id": "e9331551-63e5-4304-baca-3b2cd3eed00f",
   "metadata": {},
   "source": [
    "## Créer une table à partir d'un dataframe"
   ]
  },
  {
   "cell_type": "code",
   "execution_count": 5,
   "id": "c3100473-3b2c-47a7-9546-731ac017ca5e",
   "metadata": {},
   "outputs": [],
   "source": [
    "# Fonction pour créer une table à partir d'un DataFrame\n",
    "def create_table_from_dataframe(connection, dataframe, table_name):\n",
    "    # Créer une table avec les colonnes correspondantes au DataFrame\n",
    "    columns = ', '.join([f\"{col} VARCHAR(255)\" for col in dataframe.columns])\n",
    "    create_table_query = f\"CREATE TABLE {table_name} ({columns})\"\n",
    "    execute_query(connection, create_table_query)"
   ]
  },
  {
   "cell_type": "code",
   "execution_count": 6,
   "id": "9c7378a8-d728-473a-8fac-a6335433fd28",
   "metadata": {},
   "outputs": [],
   "source": [
    "# Fonction pour créer une table \"users\"\n",
    "def create_users_table(connection):\n",
    "    create_users_table_query = \"\"\"\n",
    "    CREATE TABLE users (\n",
    "        id INT AUTO_INCREMENT PRIMARY KEY,\n",
    "        username VARCHAR(50) NOT NULL UNIQUE,\n",
    "        email VARCHAR(100) NOT NULL UNIQUE,\n",
    "        password_hash VARCHAR(255) NOT NULL\n",
    "    )\n",
    "    \"\"\"\n",
    "    execute_query(connection, create_users_table_query)"
   ]
  },
  {
   "cell_type": "markdown",
   "id": "3949d7dc-2043-4429-9bdd-ef64da13a0c1",
   "metadata": {},
   "source": [
    "## Charger les données dans une table depuis un fichier CSV"
   ]
  },
  {
   "cell_type": "code",
   "execution_count": 7,
   "id": "6e939a28-4375-412c-8b0e-ad3cd2a71522",
   "metadata": {},
   "outputs": [],
   "source": [
    "# Fonction pour charger les données depuis un fichier CSV dans une table MySQL\n",
    "def load_data_into_mysql(connection, dataframe, table_name):\n",
    "    for _, row in dataframe.iterrows():\n",
    "        values = ', '.join([f\"%s\" for _ in row])  # Utilisation de paramètres de substitution (%s)\n",
    "        insert_query = f\"INSERT INTO {table_name} VALUES ({values})\"\n",
    "        cursor = connection.cursor()\n",
    "        cursor.execute(insert_query, tuple(row))  # Utilisation de tuple(row) pour fournir les valeurs\n",
    "        connection.commit()"
   ]
  },
  {
   "cell_type": "markdown",
   "id": "14b12cbf-8a16-43ba-b2e4-336d19809f2d",
   "metadata": {},
   "source": [
    "## Parametres de connexion à la base de données"
   ]
  },
  {
   "cell_type": "code",
   "execution_count": 8,
   "id": "867f19b5-3b95-45f9-a415-d6b693916e8e",
   "metadata": {},
   "outputs": [],
   "source": [
    "# Paramètres de connexion à la base de données\n",
    "host = \"localhost\"\n",
    "user = \"root\"\n",
    "password = \"toor\"\n",
    "database = \"films_database\"\n",
    "table_name = \"films\""
   ]
  },
  {
   "cell_type": "markdown",
   "id": "a5ff23be-4284-4902-a426-629f5e01e5aa",
   "metadata": {},
   "source": [
    "## Utilisation des fonctions"
   ]
  },
  {
   "cell_type": "code",
   "execution_count": 9,
   "id": "536df83d-500b-4ec5-8c09-c18473636cba",
   "metadata": {},
   "outputs": [
    {
     "name": "stdout",
     "output_type": "stream",
     "text": [
      "Connected to MySQL Server: localhost with database: films_database\n"
     ]
    }
   ],
   "source": [
    "# Créer la connexion à la base de données\n",
    "connection = create_connection(host, user, password, database)"
   ]
  },
  {
   "cell_type": "code",
   "execution_count": 10,
   "id": "47004e23-7131-4be0-ad0f-37170c913f56",
   "metadata": {},
   "outputs": [
    {
     "name": "stdout",
     "output_type": "stream",
     "text": [
      "Query executed successfully\n"
     ]
    }
   ],
   "source": [
    "# Créer la base de données\n",
    "create_database(connection, database)"
   ]
  },
  {
   "cell_type": "code",
   "execution_count": 11,
   "id": "6d0a6146-afbc-4001-bfce-5f57bc48ae9f",
   "metadata": {},
   "outputs": [],
   "source": [
    "# Fermer la connexion à la base de données non spécifiée\n",
    "connection.close()"
   ]
  },
  {
   "cell_type": "code",
   "execution_count": 12,
   "id": "291eca09-3904-41cb-8ab6-e79eed07bb57",
   "metadata": {},
   "outputs": [
    {
     "name": "stdout",
     "output_type": "stream",
     "text": [
      "Connected to MySQL Server: localhost with database: films_database\n"
     ]
    }
   ],
   "source": [
    "# Rétablir la connexion à la base de données spécifiée\n",
    "connection = create_connection(host, user, password, database)"
   ]
  },
  {
   "cell_type": "code",
   "execution_count": 13,
   "id": "eeac6709-dacd-44f4-a648-d3b053534540",
   "metadata": {},
   "outputs": [],
   "source": [
    "# Charger les données depuis le fichier CSV\n",
    "movies_data = pd.read_csv('movies.csv')"
   ]
  },
  {
   "cell_type": "code",
   "execution_count": 14,
   "id": "e8f8e24a-47c5-4439-9209-8dfe2eb48b5e",
   "metadata": {},
   "outputs": [
    {
     "name": "stdout",
     "output_type": "stream",
     "text": [
      "Query executed successfully\n"
     ]
    }
   ],
   "source": [
    "# Créer la table à partir du DataFrame\n",
    "create_table_from_dataframe(connection, movies_data, table_name)"
   ]
  },
  {
   "cell_type": "code",
   "execution_count": 15,
   "id": "c875e377-4b77-49d1-8acd-f5f678844cef",
   "metadata": {},
   "outputs": [
    {
     "name": "stdout",
     "output_type": "stream",
     "text": [
      "Query executed successfully\n"
     ]
    }
   ],
   "source": [
    "# Créer la table \"users\"\n",
    "create_users_table(connection)"
   ]
  },
  {
   "cell_type": "code",
   "execution_count": 16,
   "id": "b8e89390-7bac-4ee1-be14-72d50af22007",
   "metadata": {},
   "outputs": [],
   "source": [
    "# Tronquer les valeurs de la colonne 'anecdote' à une longueur spécifique\n",
    "max_length = 255  # Remplacez par la longueur maximale de votre colonne\n",
    "truncated_anecdotes = movies_data['anecdote'].apply(lambda x: x[:max_length] if isinstance(x, str) else x)\n",
    "movies_data['anecdote'] = truncated_anecdotes\n",
    "# Charger les données dans la table MySQL\n",
    "load_data_into_mysql(connection, movies_data, table_name)"
   ]
  },
  {
   "cell_type": "code",
   "execution_count": 17,
   "id": "d440adad-dbc2-4381-8839-434853dd01f6",
   "metadata": {},
   "outputs": [],
   "source": [
    "# Fermer la connexion\n",
    "connection.close()"
   ]
  },
  {
   "cell_type": "markdown",
   "id": "2c9af621-db8a-4f24-83ef-26503f563b88",
   "metadata": {},
   "source": [
    "# CRUD (Create, Read, Update, Delete)"
   ]
  },
  {
   "cell_type": "code",
   "execution_count": 18,
   "id": "8a290b45-06ba-45aa-9bfe-4227f71e9e59",
   "metadata": {},
   "outputs": [
    {
     "name": "stdout",
     "output_type": "stream",
     "text": [
      "Connected to MySQL Server: localhost with database: films_database\n"
     ]
    }
   ],
   "source": [
    "# Créer la connexion à la base de données\n",
    "connection = create_connection(host, user, password, database)"
   ]
  },
  {
   "cell_type": "markdown",
   "id": "f27db9f4-1290-4ce3-942a-a48ffce57b60",
   "metadata": {},
   "source": [
    "## Create"
   ]
  },
  {
   "cell_type": "code",
   "execution_count": 19,
   "id": "2d9395c6-9d98-4cfd-b2be-3d273bd704aa",
   "metadata": {},
   "outputs": [],
   "source": [
    "# Fonction pour effectuer une opération de création (Create)\n",
    "def create_record(connection, table_name, values):\n",
    "    values_str = ', '.join([f\"'{str(value)}'\" for value in values])\n",
    "    insert_query = f\"INSERT INTO {table_name} VALUES ({values_str})\"\n",
    "    execute_query(connection, insert_query)"
   ]
  },
  {
   "cell_type": "markdown",
   "id": "1044b47a-0825-4daa-8ff9-ba0a7b817291",
   "metadata": {},
   "source": [
    "## Read"
   ]
  },
  {
   "cell_type": "code",
   "execution_count": 20,
   "id": "9cdb869b-1487-4f61-8a4d-8cc7602470ac",
   "metadata": {},
   "outputs": [],
   "source": [
    "# Fonction pour effectuer une opération de lecture (Read)\n",
    "def read_records(connection, table_name):\n",
    "    select_query = f\"SELECT * FROM {table_name}\"\n",
    "    cursor = connection.cursor(dictionary=True)\n",
    "    cursor.execute(select_query)\n",
    "    records = cursor.fetchall()\n",
    "    return records"
   ]
  },
  {
   "cell_type": "markdown",
   "id": "b1ade60d-56aa-4d44-87bc-408eb044a76d",
   "metadata": {},
   "source": [
    "## Update"
   ]
  },
  {
   "cell_type": "code",
   "execution_count": 21,
   "id": "43c13b0a-e264-4a9e-ab22-74838943ed92",
   "metadata": {},
   "outputs": [],
   "source": [
    "# Fonction pour effectuer une opération de mise à jour (Update)\n",
    "def update_record(connection, table_name, column, new_value, condition_column, condition_value):\n",
    "    update_query = f\"UPDATE {table_name} SET {column} = '{new_value}' WHERE {condition_column} = '{condition_value}'\"\n",
    "    execute_query(connection, update_query)"
   ]
  },
  {
   "cell_type": "markdown",
   "id": "dc7815b9-da0e-4454-8149-14c96516eb88",
   "metadata": {},
   "source": [
    "## Delete"
   ]
  },
  {
   "cell_type": "code",
   "execution_count": 22,
   "id": "3f123e0b-9eb0-452e-89de-16a0d44f714c",
   "metadata": {},
   "outputs": [],
   "source": [
    "# Fonction pour effectuer une opération de suppression (Delete)\n",
    "def delete_record(connection, table_name, condition_column, condition_value):\n",
    "    delete_query = f\"DELETE FROM {table_name} WHERE {condition_column} = '{condition_value}'\"\n",
    "    execute_query(connection, delete_query)"
   ]
  },
  {
   "cell_type": "markdown",
   "id": "34822d14-5b16-45a7-9b2a-91a9bd20017b",
   "metadata": {},
   "source": [
    "## Exemple utilisation"
   ]
  },
  {
   "cell_type": "code",
   "execution_count": 23,
   "id": "7ec02f56-7a68-47c8-85d6-cf66015b2212",
   "metadata": {},
   "outputs": [
    {
     "name": "stdout",
     "output_type": "stream",
     "text": [
      "Error: 1136 (21S01): Column count doesn't match value count at row 1\n"
     ]
    }
   ],
   "source": [
    "# Create\n",
    "create_record(connection, table_name, [\"New Movie\", \"2023\", \"Action\"])"
   ]
  },
  {
   "cell_type": "code",
   "execution_count": 24,
   "id": "8c95544a-d777-4f84-8532-d2edf383d02e",
   "metadata": {},
   "outputs": [
    {
     "name": "stdout",
     "output_type": "stream",
     "text": [
      "Records after creation:\n"
     ]
    },
    {
     "name": "stderr",
     "output_type": "stream",
     "text": [
      "IOPub data rate exceeded.\n",
      "The Jupyter server will temporarily stop sending output\n",
      "to the client in order to avoid crashing it.\n",
      "To change this limit, set the config variable\n",
      "`--ServerApp.iopub_data_rate_limit`.\n",
      "\n",
      "Current values:\n",
      "ServerApp.iopub_data_rate_limit=1000000.0 (bytes/sec)\n",
      "ServerApp.rate_limit_window=3.0 (secs)\n",
      "\n"
     ]
    },
    {
     "name": "stdout",
     "output_type": "stream",
     "text": [
      "\n"
     ]
    }
   ],
   "source": [
    "# Read\n",
    "records = read_records(connection, table_name)\n",
    "print(\"Records after creation:\")\n",
    "print(records)"
   ]
  },
  {
   "cell_type": "code",
   "execution_count": 25,
   "id": "48ae10e7-62f2-409f-baa6-15ec8701592e",
   "metadata": {},
   "outputs": [
    {
     "name": "stdout",
     "output_type": "stream",
     "text": [
      "Error: 1054 (42S22): Unknown column 'title' in 'where clause'\n"
     ]
    }
   ],
   "source": [
    "# Update\n",
    "update_record(connection, table_name, \"genre\", \"Sci-Fi\", \"title\", \"New Movie\")"
   ]
  },
  {
   "cell_type": "code",
   "execution_count": 26,
   "id": "356c067a-15ce-4f8b-aea6-a544ef4af805",
   "metadata": {},
   "outputs": [
    {
     "name": "stdout",
     "output_type": "stream",
     "text": [
      "Records after update:\n"
     ]
    },
    {
     "name": "stderr",
     "output_type": "stream",
     "text": [
      "IOPub data rate exceeded.\n",
      "The Jupyter server will temporarily stop sending output\n",
      "to the client in order to avoid crashing it.\n",
      "To change this limit, set the config variable\n",
      "`--ServerApp.iopub_data_rate_limit`.\n",
      "\n",
      "Current values:\n",
      "ServerApp.iopub_data_rate_limit=1000000.0 (bytes/sec)\n",
      "ServerApp.rate_limit_window=3.0 (secs)\n",
      "\n"
     ]
    }
   ],
   "source": [
    "# Read after update\n",
    "records_after_update = read_records(connection, table_name)\n",
    "print(\"Records after update:\")\n",
    "print(records_after_update)"
   ]
  },
  {
   "cell_type": "code",
   "execution_count": 27,
   "id": "65bac1bc-7f6e-46e9-b0b2-a3a4cc436a99",
   "metadata": {},
   "outputs": [
    {
     "name": "stdout",
     "output_type": "stream",
     "text": [
      "Error: 1054 (42S22): Unknown column 'title' in 'where clause'\n"
     ]
    }
   ],
   "source": [
    "# Delete\n",
    "delete_record(connection, table_name, \"title\", \"New Movie\")"
   ]
  },
  {
   "cell_type": "code",
   "execution_count": 28,
   "id": "5ca4c5bb-9b4c-4e77-a319-2997bfc7e968",
   "metadata": {},
   "outputs": [
    {
     "name": "stdout",
     "output_type": "stream",
     "text": [
      "Records after delete:"
     ]
    },
    {
     "name": "stderr",
     "output_type": "stream",
     "text": [
      "IOPub data rate exceeded.\n",
      "The Jupyter server will temporarily stop sending output\n",
      "to the client in order to avoid crashing it.\n",
      "To change this limit, set the config variable\n",
      "`--ServerApp.iopub_data_rate_limit`.\n",
      "\n",
      "Current values:\n",
      "ServerApp.iopub_data_rate_limit=1000000.0 (bytes/sec)\n",
      "ServerApp.rate_limit_window=3.0 (secs)\n",
      "\n"
     ]
    }
   ],
   "source": [
    "# Read after delete\n",
    "records_after_delete = read_records(connection, table_name)\n",
    "print(\"Records after delete:\")\n",
    "print(records_after_delete)"
   ]
  },
  {
   "cell_type": "code",
   "execution_count": 29,
   "id": "cadd4db0-7323-445d-9e79-42592d46b24a",
   "metadata": {},
   "outputs": [],
   "source": [
    "# Fermer la connexion\n",
    "connection.close()"
   ]
  }
 ],
 "metadata": {
  "kernelspec": {
   "display_name": "Python 3 (ipykernel)",
   "language": "python",
   "name": "python3"
  },
  "language_info": {
   "codemirror_mode": {
    "name": "ipython",
    "version": 3
   },
   "file_extension": ".py",
   "mimetype": "text/x-python",
   "name": "python",
   "nbconvert_exporter": "python",
   "pygments_lexer": "ipython3",
   "version": "3.11.3"
  }
 },
 "nbformat": 4,
 "nbformat_minor": 5
}
